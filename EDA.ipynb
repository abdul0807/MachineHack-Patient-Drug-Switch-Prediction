{
 "cells": [
  {
   "cell_type": "code",
   "execution_count": 4,
   "metadata": {},
   "outputs": [
    {
     "name": "stdout",
     "output_type": "stream",
     "text": [
      "The autoreload extension is already loaded. To reload it, use:\n",
      "  %reload_ext autoreload\n"
     ]
    }
   ],
   "source": [
    "%matplotlib inline\n",
    "%load_ext autoreload\n",
    "%autoreload 2\n",
    "\n",
    "from IPython.display import display\n",
    "\n",
    "import pandas as pd\n",
    "import numpy as np\n",
    "\n",
    "import os\n",
    "import gc\n",
    "import feather\n",
    "\n",
    "import matplotlib\n",
    "import matplotlib.pyplot as plt\n",
    "\n",
    "pd.set_option(\"max_colwidth\", -1)\n",
    "pd.set_option(\"max_columns\", 500)\n",
    "pd.set_option(\"max_rows\", 500)\n",
    "\n",
    "from tqdm import tqdm_notebook as tqdm\n",
    "\n",
    "import pandas_profiling\n",
    "# df.profile_report()\n",
    "# Generating dataset profile\n",
    "# pandas_profiling.ProfileReport(dataframe)"
   ]
  },
  {
   "cell_type": "code",
   "execution_count": 5,
   "metadata": {},
   "outputs": [],
   "source": [
    "plt.style.use('fivethirtyeight')\n",
    "plt.rcParams[\"axes.labelsize\"] = 16\n",
    "plt.rcParams[\"xtick.labelsize\"] = 14\n",
    "plt.rcParams[\"ytick.labelsize\"] = 14"
   ]
  },
  {
   "cell_type": "code",
   "execution_count": 6,
   "metadata": {},
   "outputs": [
    {
     "name": "stdout",
     "output_type": "stream",
     "text": [
      "(14446880, 6)\n"
     ]
    },
    {
     "data": {
      "text/html": [
       "<div>\n",
       "<style scoped>\n",
       "    .dataframe tbody tr th:only-of-type {\n",
       "        vertical-align: middle;\n",
       "    }\n",
       "\n",
       "    .dataframe tbody tr th {\n",
       "        vertical-align: top;\n",
       "    }\n",
       "\n",
       "    .dataframe thead th {\n",
       "        text-align: right;\n",
       "    }\n",
       "</style>\n",
       "<table border=\"1\" class=\"dataframe\">\n",
       "  <thead>\n",
       "    <tr style=\"text-align: right;\">\n",
       "      <th></th>\n",
       "      <th>patient_id</th>\n",
       "      <th>event_name</th>\n",
       "      <th>event_time</th>\n",
       "      <th>specialty</th>\n",
       "      <th>plan_type</th>\n",
       "      <th>patient_payment</th>\n",
       "    </tr>\n",
       "  </thead>\n",
       "  <tbody>\n",
       "    <tr>\n",
       "      <th>0</th>\n",
       "      <td>patient_1</td>\n",
       "      <td>event_1</td>\n",
       "      <td>47</td>\n",
       "      <td>spec_1</td>\n",
       "      <td>plan_1</td>\n",
       "      <td>0.0</td>\n",
       "    </tr>\n",
       "    <tr>\n",
       "      <th>1</th>\n",
       "      <td>patient_4</td>\n",
       "      <td>event_1</td>\n",
       "      <td>727</td>\n",
       "      <td>spec_1</td>\n",
       "      <td>plan_2</td>\n",
       "      <td>0.0</td>\n",
       "    </tr>\n",
       "    <tr>\n",
       "      <th>2</th>\n",
       "      <td>patient_6</td>\n",
       "      <td>event_1</td>\n",
       "      <td>738</td>\n",
       "      <td>spec_1</td>\n",
       "      <td>plan_1</td>\n",
       "      <td>0.0</td>\n",
       "    </tr>\n",
       "    <tr>\n",
       "      <th>3</th>\n",
       "      <td>patient_7</td>\n",
       "      <td>event_1</td>\n",
       "      <td>923</td>\n",
       "      <td>spec_1</td>\n",
       "      <td>plan_1</td>\n",
       "      <td>0.0</td>\n",
       "    </tr>\n",
       "    <tr>\n",
       "      <th>4</th>\n",
       "      <td>patient_9</td>\n",
       "      <td>event_1</td>\n",
       "      <td>49</td>\n",
       "      <td>spec_1</td>\n",
       "      <td>plan_1</td>\n",
       "      <td>0.0</td>\n",
       "    </tr>\n",
       "  </tbody>\n",
       "</table>\n",
       "</div>"
      ],
      "text/plain": [
       "  patient_id event_name  event_time specialty plan_type  patient_payment\n",
       "0  patient_1  event_1    47          spec_1    plan_1    0.0            \n",
       "1  patient_4  event_1    727         spec_1    plan_2    0.0            \n",
       "2  patient_6  event_1    738         spec_1    plan_1    0.0            \n",
       "3  patient_7  event_1    923         spec_1    plan_1    0.0            \n",
       "4  patient_9  event_1    49          spec_1    plan_1    0.0            "
      ]
     },
     "execution_count": 6,
     "metadata": {},
     "output_type": "execute_result"
    }
   ],
   "source": [
    "train = pd.read_csv(\"../train_data.csv\", index_col=None)\n",
    "print(train.shape)\n",
    "train.head()"
   ]
  },
  {
   "cell_type": "code",
   "execution_count": 7,
   "metadata": {},
   "outputs": [
    {
     "data": {
      "text/plain": [
       "15"
      ]
     },
     "execution_count": 7,
     "metadata": {},
     "output_type": "execute_result"
    }
   ],
   "source": [
    "train_labels = pd.read_csv(\"../train_labels.csv\")\n",
    "\n",
    "train = pd.merge(train, train_labels, on='patient_id', how='left')\n",
    "\n",
    "del train_labels\n",
    "gc.collect()"
   ]
  },
  {
   "cell_type": "code",
   "execution_count": 8,
   "metadata": {},
   "outputs": [
    {
     "data": {
      "text/html": [
       "<div>\n",
       "<style scoped>\n",
       "    .dataframe tbody tr th:only-of-type {\n",
       "        vertical-align: middle;\n",
       "    }\n",
       "\n",
       "    .dataframe tbody tr th {\n",
       "        vertical-align: top;\n",
       "    }\n",
       "\n",
       "    .dataframe thead th {\n",
       "        text-align: right;\n",
       "    }\n",
       "</style>\n",
       "<table border=\"1\" class=\"dataframe\">\n",
       "  <thead>\n",
       "    <tr style=\"text-align: right;\">\n",
       "      <th></th>\n",
       "      <th>patient_id</th>\n",
       "      <th>event_name</th>\n",
       "      <th>event_time</th>\n",
       "      <th>specialty</th>\n",
       "      <th>plan_type</th>\n",
       "      <th>patient_payment</th>\n",
       "      <th>outcome_flag</th>\n",
       "    </tr>\n",
       "  </thead>\n",
       "  <tbody>\n",
       "    <tr>\n",
       "      <th>0</th>\n",
       "      <td>patient_1</td>\n",
       "      <td>event_1</td>\n",
       "      <td>47</td>\n",
       "      <td>spec_1</td>\n",
       "      <td>plan_1</td>\n",
       "      <td>0.0</td>\n",
       "      <td>0</td>\n",
       "    </tr>\n",
       "    <tr>\n",
       "      <th>1</th>\n",
       "      <td>patient_4</td>\n",
       "      <td>event_1</td>\n",
       "      <td>727</td>\n",
       "      <td>spec_1</td>\n",
       "      <td>plan_2</td>\n",
       "      <td>0.0</td>\n",
       "      <td>0</td>\n",
       "    </tr>\n",
       "    <tr>\n",
       "      <th>2</th>\n",
       "      <td>patient_6</td>\n",
       "      <td>event_1</td>\n",
       "      <td>738</td>\n",
       "      <td>spec_1</td>\n",
       "      <td>plan_1</td>\n",
       "      <td>0.0</td>\n",
       "      <td>0</td>\n",
       "    </tr>\n",
       "    <tr>\n",
       "      <th>3</th>\n",
       "      <td>patient_7</td>\n",
       "      <td>event_1</td>\n",
       "      <td>923</td>\n",
       "      <td>spec_1</td>\n",
       "      <td>plan_1</td>\n",
       "      <td>0.0</td>\n",
       "      <td>0</td>\n",
       "    </tr>\n",
       "    <tr>\n",
       "      <th>4</th>\n",
       "      <td>patient_9</td>\n",
       "      <td>event_1</td>\n",
       "      <td>49</td>\n",
       "      <td>spec_1</td>\n",
       "      <td>plan_1</td>\n",
       "      <td>0.0</td>\n",
       "      <td>0</td>\n",
       "    </tr>\n",
       "  </tbody>\n",
       "</table>\n",
       "</div>"
      ],
      "text/plain": [
       "  patient_id event_name  event_time specialty plan_type  patient_payment  \\\n",
       "0  patient_1  event_1    47          spec_1    plan_1    0.0               \n",
       "1  patient_4  event_1    727         spec_1    plan_2    0.0               \n",
       "2  patient_6  event_1    738         spec_1    plan_1    0.0               \n",
       "3  patient_7  event_1    923         spec_1    plan_1    0.0               \n",
       "4  patient_9  event_1    49          spec_1    plan_1    0.0               \n",
       "\n",
       "   outcome_flag  \n",
       "0  0             \n",
       "1  0             \n",
       "2  0             \n",
       "3  0             \n",
       "4  0             "
      ]
     },
     "execution_count": 8,
     "metadata": {},
     "output_type": "execute_result"
    }
   ],
   "source": [
    "train.head()"
   ]
  },
  {
   "cell_type": "code",
   "execution_count": 9,
   "metadata": {},
   "outputs": [
    {
     "name": "stdout",
     "output_type": "stream",
     "text": [
      "(6256395, 6)\n"
     ]
    },
    {
     "data": {
      "text/html": [
       "<div>\n",
       "<style scoped>\n",
       "    .dataframe tbody tr th:only-of-type {\n",
       "        vertical-align: middle;\n",
       "    }\n",
       "\n",
       "    .dataframe tbody tr th {\n",
       "        vertical-align: top;\n",
       "    }\n",
       "\n",
       "    .dataframe thead th {\n",
       "        text-align: right;\n",
       "    }\n",
       "</style>\n",
       "<table border=\"1\" class=\"dataframe\">\n",
       "  <thead>\n",
       "    <tr style=\"text-align: right;\">\n",
       "      <th></th>\n",
       "      <th>patient_id</th>\n",
       "      <th>event_name</th>\n",
       "      <th>event_time</th>\n",
       "      <th>specialty</th>\n",
       "      <th>plan_type</th>\n",
       "      <th>patient_payment</th>\n",
       "    </tr>\n",
       "  </thead>\n",
       "  <tbody>\n",
       "    <tr>\n",
       "      <th>0</th>\n",
       "      <td>patient_2</td>\n",
       "      <td>event_1</td>\n",
       "      <td>164</td>\n",
       "      <td>spec_1</td>\n",
       "      <td>plan_2</td>\n",
       "      <td>0.0</td>\n",
       "    </tr>\n",
       "    <tr>\n",
       "      <th>1</th>\n",
       "      <td>patient_3</td>\n",
       "      <td>event_1</td>\n",
       "      <td>420</td>\n",
       "      <td>spec_1</td>\n",
       "      <td>plan_2</td>\n",
       "      <td>0.0</td>\n",
       "    </tr>\n",
       "    <tr>\n",
       "      <th>2</th>\n",
       "      <td>patient_5</td>\n",
       "      <td>event_1</td>\n",
       "      <td>623</td>\n",
       "      <td>spec_1</td>\n",
       "      <td>plan_2</td>\n",
       "      <td>0.0</td>\n",
       "    </tr>\n",
       "    <tr>\n",
       "      <th>3</th>\n",
       "      <td>patient_8</td>\n",
       "      <td>event_1</td>\n",
       "      <td>162</td>\n",
       "      <td>spec_1</td>\n",
       "      <td>plan_1</td>\n",
       "      <td>0.0</td>\n",
       "    </tr>\n",
       "    <tr>\n",
       "      <th>4</th>\n",
       "      <td>patient_14</td>\n",
       "      <td>event_1</td>\n",
       "      <td>243</td>\n",
       "      <td>spec_1</td>\n",
       "      <td>plan_2</td>\n",
       "      <td>0.0</td>\n",
       "    </tr>\n",
       "  </tbody>\n",
       "</table>\n",
       "</div>"
      ],
      "text/plain": [
       "   patient_id event_name  event_time specialty plan_type  patient_payment\n",
       "0  patient_2   event_1    164         spec_1    plan_2    0.0            \n",
       "1  patient_3   event_1    420         spec_1    plan_2    0.0            \n",
       "2  patient_5   event_1    623         spec_1    plan_2    0.0            \n",
       "3  patient_8   event_1    162         spec_1    plan_1    0.0            \n",
       "4  patient_14  event_1    243         spec_1    plan_2    0.0            "
      ]
     },
     "execution_count": 9,
     "metadata": {},
     "output_type": "execute_result"
    }
   ],
   "source": [
    "test = pd.read_csv(\"../test_data.csv\", index_col=None)\n",
    "print(test.shape)\n",
    "test.head()"
   ]
  },
  {
   "cell_type": "code",
   "execution_count": 10,
   "metadata": {},
   "outputs": [],
   "source": [
    "target = 'outcome_flag'"
   ]
  },
  {
   "cell_type": "code",
   "execution_count": 12,
   "metadata": {},
   "outputs": [
    {
     "data": {
      "image/png": "[encoded data removed]",
      "text/plain": [
       "<Figure size 432x288 with 1 Axes>"
      ]
     },
     "metadata": {},
     "output_type": "display_data"
    }
   ],
   "source": [
    "import seaborn as sns\n",
    "mean_val = (train[target] == 1).mean()\n",
    "ax = sns.barplot(['Drug Switched', 'No Drug Switched'],[mean_val, 1-mean_val])\n",
    "ax.set(ylabel='proportion', title='Switched vs not Switched')\n",
    "for p, uniq in zip(ax.patches, [mean_val, 1-mean_val]):\n",
    "    height = p.get_height()\n",
    "    ax.text(p.get_x()+p.get_width()/2., height+0.01, '{}%'.format(round(uniq * 100, 2)), ha=\"center\")"
   ]
  },
  {
   "cell_type": "code",
   "execution_count": 13,
   "metadata": {
    "scrolled": false
   },
   "outputs": [
    {
     "data": {
      "text/html": [
       "\n",
       "        <iframe\n",
       "            width=\"100%\"\n",
       "            height=\"800px\"\n",
       "            src=\"ipynb_tmp/profile_5633683850.html\"\n",
       "            frameborder=\"0\"\n",
       "            allowfullscreen\n",
       "        ></iframe>\n",
       "        "
      ],
      "text/plain": [
       "<IPython.lib.display.IFrame at 0x1a2576f9b0>"
      ]
     },
     "metadata": {},
     "output_type": "display_data"
    },
    {
     "data": {
      "text/plain": []
     },
     "execution_count": 13,
     "metadata": {},
     "output_type": "execute_result"
    }
   ],
   "source": [
    "train.profile_report()"
   ]
  },
  {
   "cell_type": "markdown",
   "metadata": {},
   "source": [
    "# Training data Observation"
   ]
  },
  {
   "cell_type": "markdown",
   "metadata": {},
   "source": [
    "* We have ~14.5 millions records and ~16k patients\n",
    "* 50% records are duplicate rows (this looks high number)\n",
    "* No missing values\n",
    "* 6 independent variables (2 numeric and 4 categorical)\n",
    "* Patient_payment is skewed and 80% zero values\n",
    "* 13% people with drug switch (target variable)\n",
    "* negative value in patient payment. Might be discounts."
   ]
  },
  {
   "cell_type": "code",
   "execution_count": 14,
   "metadata": {},
   "outputs": [
    {
     "data": {
      "text/html": [
       "\n",
       "        <iframe\n",
       "            width=\"100%\"\n",
       "            height=\"800px\"\n",
       "            src=\"ipynb_tmp/profile_1999161330.html\"\n",
       "            frameborder=\"0\"\n",
       "            allowfullscreen\n",
       "        ></iframe>\n",
       "        "
      ],
      "text/plain": [
       "<IPython.lib.display.IFrame at 0x1a2b639278>"
      ]
     },
     "metadata": {},
     "output_type": "display_data"
    },
    {
     "data": {
      "text/plain": []
     },
     "execution_count": 14,
     "metadata": {},
     "output_type": "execute_result"
    }
   ],
   "source": [
    "test.profile_report()"
   ]
  },
  {
   "cell_type": "markdown",
   "metadata": {},
   "source": [
    "# Test data Observation"
   ]
  },
  {
   "cell_type": "markdown",
   "metadata": {},
   "source": [
    "* We have ~6 millions records and ~7k patients\n",
    "* 50% records are duplicate rows (this looks high number)\n",
    "* No missing values\n",
    "* 6 independent variables (2 numeric and 4 categorical)\n",
    "* Patient_payment is skewed and 80% zero values"
   ]
  },
  {
   "cell_type": "code",
   "execution_count": 15,
   "metadata": {},
   "outputs": [
    {
     "name": "stderr",
     "output_type": "stream",
     "text": [
      "/Users/abdulqam/.conda/envs/python3/lib/python3.6/site-packages/pandas_summary/__init__.py:91: FutureWarning: \n",
      ".ix is deprecated. Please use\n",
      ".loc for label based indexing or\n",
      ".iloc for positional indexing\n",
      "\n",
      "See the documentation here:\n",
      "http://pandas.pydata.org/pandas-docs/stable/user_guide/indexing.html#ix-indexer-is-deprecated\n",
      "  stats.ix[columns, 'types'] = ctype\n"
     ]
    },
    {
     "data": {
      "text/html": [
       "<div>\n",
       "<style scoped>\n",
       "    .dataframe tbody tr th:only-of-type {\n",
       "        vertical-align: middle;\n",
       "    }\n",
       "\n",
       "    .dataframe tbody tr th {\n",
       "        vertical-align: top;\n",
       "    }\n",
       "\n",
       "    .dataframe thead th {\n",
       "        text-align: right;\n",
       "    }\n",
       "</style>\n",
       "<table border=\"1\" class=\"dataframe\">\n",
       "  <thead>\n",
       "    <tr style=\"text-align: right;\">\n",
       "      <th></th>\n",
       "      <th>count</th>\n",
       "      <th>mean</th>\n",
       "      <th>std</th>\n",
       "      <th>min</th>\n",
       "      <th>25%</th>\n",
       "      <th>50%</th>\n",
       "      <th>75%</th>\n",
       "      <th>max</th>\n",
       "      <th>counts</th>\n",
       "      <th>uniques</th>\n",
       "      <th>missing</th>\n",
       "      <th>missing_perc</th>\n",
       "      <th>types</th>\n",
       "    </tr>\n",
       "  </thead>\n",
       "  <tbody>\n",
       "    <tr>\n",
       "      <th>patient_id</th>\n",
       "      <td>NaN</td>\n",
       "      <td>NaN</td>\n",
       "      <td>NaN</td>\n",
       "      <td>NaN</td>\n",
       "      <td>NaN</td>\n",
       "      <td>NaN</td>\n",
       "      <td>NaN</td>\n",
       "      <td>NaN</td>\n",
       "      <td>14446880</td>\n",
       "      <td>16683</td>\n",
       "      <td>0</td>\n",
       "      <td>0%</td>\n",
       "      <td>categorical</td>\n",
       "    </tr>\n",
       "    <tr>\n",
       "      <th>event_name</th>\n",
       "      <td>NaN</td>\n",
       "      <td>NaN</td>\n",
       "      <td>NaN</td>\n",
       "      <td>NaN</td>\n",
       "      <td>NaN</td>\n",
       "      <td>NaN</td>\n",
       "      <td>NaN</td>\n",
       "      <td>NaN</td>\n",
       "      <td>14446880</td>\n",
       "      <td>520</td>\n",
       "      <td>0</td>\n",
       "      <td>0%</td>\n",
       "      <td>categorical</td>\n",
       "    </tr>\n",
       "    <tr>\n",
       "      <th>event_time</th>\n",
       "      <td>1.44469e+07</td>\n",
       "      <td>497.691</td>\n",
       "      <td>312.708</td>\n",
       "      <td>1</td>\n",
       "      <td>223</td>\n",
       "      <td>477</td>\n",
       "      <td>762</td>\n",
       "      <td>1080</td>\n",
       "      <td>14446880</td>\n",
       "      <td>1080</td>\n",
       "      <td>0</td>\n",
       "      <td>0%</td>\n",
       "      <td>numeric</td>\n",
       "    </tr>\n",
       "    <tr>\n",
       "      <th>specialty</th>\n",
       "      <td>NaN</td>\n",
       "      <td>NaN</td>\n",
       "      <td>NaN</td>\n",
       "      <td>NaN</td>\n",
       "      <td>NaN</td>\n",
       "      <td>NaN</td>\n",
       "      <td>NaN</td>\n",
       "      <td>NaN</td>\n",
       "      <td>14446880</td>\n",
       "      <td>229</td>\n",
       "      <td>0</td>\n",
       "      <td>0%</td>\n",
       "      <td>categorical</td>\n",
       "    </tr>\n",
       "    <tr>\n",
       "      <th>plan_type</th>\n",
       "      <td>NaN</td>\n",
       "      <td>NaN</td>\n",
       "      <td>NaN</td>\n",
       "      <td>NaN</td>\n",
       "      <td>NaN</td>\n",
       "      <td>NaN</td>\n",
       "      <td>NaN</td>\n",
       "      <td>NaN</td>\n",
       "      <td>14446880</td>\n",
       "      <td>6</td>\n",
       "      <td>0</td>\n",
       "      <td>0%</td>\n",
       "      <td>categorical</td>\n",
       "    </tr>\n",
       "    <tr>\n",
       "      <th>patient_payment</th>\n",
       "      <td>1.44469e+07</td>\n",
       "      <td>7.29958</td>\n",
       "      <td>60.1839</td>\n",
       "      <td>-150</td>\n",
       "      <td>0</td>\n",
       "      <td>0</td>\n",
       "      <td>0</td>\n",
       "      <td>82959.3</td>\n",
       "      <td>14446880</td>\n",
       "      <td>46485</td>\n",
       "      <td>0</td>\n",
       "      <td>0%</td>\n",
       "      <td>numeric</td>\n",
       "    </tr>\n",
       "    <tr>\n",
       "      <th>outcome_flag</th>\n",
       "      <td>1.44469e+07</td>\n",
       "      <td>0.13023</td>\n",
       "      <td>0.336556</td>\n",
       "      <td>0</td>\n",
       "      <td>0</td>\n",
       "      <td>0</td>\n",
       "      <td>0</td>\n",
       "      <td>1</td>\n",
       "      <td>14446880</td>\n",
       "      <td>2</td>\n",
       "      <td>0</td>\n",
       "      <td>0%</td>\n",
       "      <td>bool</td>\n",
       "    </tr>\n",
       "  </tbody>\n",
       "</table>\n",
       "</div>"
      ],
      "text/plain": [
       "                       count     mean       std  min  25%  50%  75%      max  \\\n",
       "patient_id       NaN          NaN      NaN       NaN  NaN  NaN  NaN  NaN       \n",
       "event_name       NaN          NaN      NaN       NaN  NaN  NaN  NaN  NaN       \n",
       "event_time       1.44469e+07  497.691  312.708   1    223  477  762  1080      \n",
       "specialty        NaN          NaN      NaN       NaN  NaN  NaN  NaN  NaN       \n",
       "plan_type        NaN          NaN      NaN       NaN  NaN  NaN  NaN  NaN       \n",
       "patient_payment  1.44469e+07  7.29958  60.1839  -150  0    0    0    82959.3   \n",
       "outcome_flag     1.44469e+07  0.13023  0.336556  0    0    0    0    1         \n",
       "\n",
       "                   counts uniques missing missing_perc        types  \n",
       "patient_id       14446880  16683   0       0%           categorical  \n",
       "event_name       14446880  520     0       0%           categorical  \n",
       "event_time       14446880  1080    0       0%           numeric      \n",
       "specialty        14446880  229     0       0%           categorical  \n",
       "plan_type        14446880  6       0       0%           categorical  \n",
       "patient_payment  14446880  46485   0       0%           numeric      \n",
       "outcome_flag     14446880  2       0       0%           bool         "
      ]
     },
     "execution_count": 15,
     "metadata": {},
     "output_type": "execute_result"
    }
   ],
   "source": [
    "from pandas_summary import DataFrameSummary\n",
    "dfs = DataFrameSummary(train)\n",
    "# dfs.columns_stats.T.sort_values(by='missing_perc')\n",
    "dfs.summary().T"
   ]
  },
  {
   "cell_type": "code",
   "execution_count": 16,
   "metadata": {},
   "outputs": [
    {
     "data": {
      "text/html": [
       "<div>\n",
       "<style scoped>\n",
       "    .dataframe tbody tr th:only-of-type {\n",
       "        vertical-align: middle;\n",
       "    }\n",
       "\n",
       "    .dataframe tbody tr th {\n",
       "        vertical-align: top;\n",
       "    }\n",
       "\n",
       "    .dataframe thead th {\n",
       "        text-align: right;\n",
       "    }\n",
       "</style>\n",
       "<table border=\"1\" class=\"dataframe\">\n",
       "  <thead>\n",
       "    <tr style=\"text-align: right;\">\n",
       "      <th></th>\n",
       "      <th>count</th>\n",
       "      <th>mean</th>\n",
       "      <th>std</th>\n",
       "      <th>min</th>\n",
       "      <th>25%</th>\n",
       "      <th>50%</th>\n",
       "      <th>75%</th>\n",
       "      <th>max</th>\n",
       "      <th>counts</th>\n",
       "      <th>uniques</th>\n",
       "      <th>missing</th>\n",
       "      <th>missing_perc</th>\n",
       "      <th>types</th>\n",
       "    </tr>\n",
       "  </thead>\n",
       "  <tbody>\n",
       "    <tr>\n",
       "      <th>patient_id</th>\n",
       "      <td>NaN</td>\n",
       "      <td>NaN</td>\n",
       "      <td>NaN</td>\n",
       "      <td>NaN</td>\n",
       "      <td>NaN</td>\n",
       "      <td>NaN</td>\n",
       "      <td>NaN</td>\n",
       "      <td>NaN</td>\n",
       "      <td>6256395</td>\n",
       "      <td>7148</td>\n",
       "      <td>0</td>\n",
       "      <td>0%</td>\n",
       "      <td>categorical</td>\n",
       "    </tr>\n",
       "    <tr>\n",
       "      <th>event_name</th>\n",
       "      <td>NaN</td>\n",
       "      <td>NaN</td>\n",
       "      <td>NaN</td>\n",
       "      <td>NaN</td>\n",
       "      <td>NaN</td>\n",
       "      <td>NaN</td>\n",
       "      <td>NaN</td>\n",
       "      <td>NaN</td>\n",
       "      <td>6256395</td>\n",
       "      <td>520</td>\n",
       "      <td>0</td>\n",
       "      <td>0%</td>\n",
       "      <td>categorical</td>\n",
       "    </tr>\n",
       "    <tr>\n",
       "      <th>event_time</th>\n",
       "      <td>6.2564e+06</td>\n",
       "      <td>501.063</td>\n",
       "      <td>312.717</td>\n",
       "      <td>1</td>\n",
       "      <td>226</td>\n",
       "      <td>480</td>\n",
       "      <td>764</td>\n",
       "      <td>1080</td>\n",
       "      <td>6256395</td>\n",
       "      <td>1080</td>\n",
       "      <td>0</td>\n",
       "      <td>0%</td>\n",
       "      <td>numeric</td>\n",
       "    </tr>\n",
       "    <tr>\n",
       "      <th>specialty</th>\n",
       "      <td>NaN</td>\n",
       "      <td>NaN</td>\n",
       "      <td>NaN</td>\n",
       "      <td>NaN</td>\n",
       "      <td>NaN</td>\n",
       "      <td>NaN</td>\n",
       "      <td>NaN</td>\n",
       "      <td>NaN</td>\n",
       "      <td>6256395</td>\n",
       "      <td>206</td>\n",
       "      <td>0</td>\n",
       "      <td>0%</td>\n",
       "      <td>categorical</td>\n",
       "    </tr>\n",
       "    <tr>\n",
       "      <th>plan_type</th>\n",
       "      <td>NaN</td>\n",
       "      <td>NaN</td>\n",
       "      <td>NaN</td>\n",
       "      <td>NaN</td>\n",
       "      <td>NaN</td>\n",
       "      <td>NaN</td>\n",
       "      <td>NaN</td>\n",
       "      <td>NaN</td>\n",
       "      <td>6256395</td>\n",
       "      <td>6</td>\n",
       "      <td>0</td>\n",
       "      <td>0%</td>\n",
       "      <td>categorical</td>\n",
       "    </tr>\n",
       "    <tr>\n",
       "      <th>patient_payment</th>\n",
       "      <td>6.2564e+06</td>\n",
       "      <td>7.09704</td>\n",
       "      <td>68.3365</td>\n",
       "      <td>-61.95</td>\n",
       "      <td>0</td>\n",
       "      <td>0</td>\n",
       "      <td>0</td>\n",
       "      <td>39748.8</td>\n",
       "      <td>6256395</td>\n",
       "      <td>28517</td>\n",
       "      <td>0</td>\n",
       "      <td>0%</td>\n",
       "      <td>numeric</td>\n",
       "    </tr>\n",
       "  </tbody>\n",
       "</table>\n",
       "</div>"
      ],
      "text/plain": [
       "                      count     mean      std    min  25%  50%  75%      max  \\\n",
       "patient_id       NaN         NaN      NaN      NaN    NaN  NaN  NaN  NaN       \n",
       "event_name       NaN         NaN      NaN      NaN    NaN  NaN  NaN  NaN       \n",
       "event_time       6.2564e+06  501.063  312.717  1      226  480  764  1080      \n",
       "specialty        NaN         NaN      NaN      NaN    NaN  NaN  NaN  NaN       \n",
       "plan_type        NaN         NaN      NaN      NaN    NaN  NaN  NaN  NaN       \n",
       "patient_payment  6.2564e+06  7.09704  68.3365 -61.95  0    0    0    39748.8   \n",
       "\n",
       "                  counts uniques missing missing_perc        types  \n",
       "patient_id       6256395  7148    0       0%           categorical  \n",
       "event_name       6256395  520     0       0%           categorical  \n",
       "event_time       6256395  1080    0       0%           numeric      \n",
       "specialty        6256395  206     0       0%           categorical  \n",
       "plan_type        6256395  6       0       0%           categorical  \n",
       "patient_payment  6256395  28517   0       0%           numeric      "
      ]
     },
     "execution_count": 16,
     "metadata": {},
     "output_type": "execute_result"
    }
   ],
   "source": [
    "from pandas_summary import DataFrameSummary\n",
    "dfs = DataFrameSummary(test)\n",
    "# dfs.columns_stats.T.sort_values(by='missing_perc')\n",
    "dfs.summary().T"
   ]
  },
  {
   "cell_type": "code",
   "execution_count": 17,
   "metadata": {},
   "outputs": [
    {
     "data": {
      "image/png": "[encoded data removed]",
      "text/plain": [
       "<Figure size 432x288 with 1 Axes>"
      ]
     },
     "metadata": {},
     "output_type": "display_data"
    },
    {
     "data": {
      "image/png": "[encoded data removed]",
      "text/plain": [
       "<Figure size 432x288 with 1 Axes>"
      ]
     },
     "metadata": {},
     "output_type": "display_data"
    },
    {
     "data": {
      "image/png": "[encoded data removed]",
      "text/plain": [
       "<Figure size 432x288 with 1 Axes>"
      ]
     },
     "metadata": {},
     "output_type": "display_data"
    },
    {
     "data": {
      "image/png": "[encoded data removed]",
      "text/plain": [
       "<Figure size 432x288 with 1 Axes>"
      ]
     },
     "metadata": {},
     "output_type": "display_data"
    },
    {
     "data": {
      "image/png": "[encoded data removed]",
      "text/plain": [
       "<Figure size 432x288 with 1 Axes>"
      ]
     },
     "metadata": {},
     "output_type": "display_data"
    },
    {
     "data": {
      "image/png": "[encoded data removed]",
      "text/plain": [
       "<Figure size 432x288 with 1 Axes>"
      ]
     },
     "metadata": {},
     "output_type": "display_data"
    }
   ],
   "source": [
    "from matplotlib_venn import venn2\n",
    "for feature in ['patient_id', 'event_name', 'event_time', 'specialty', 'plan_type',\n",
    "       'patient_payment']:\n",
    "#     print(feature)\n",
    "    venn2([set(train[feature].values), set(test[feature].values)], set_labels = ('train', 'test'))\n",
    "    plt.title(feature)\n",
    "    plt.show()"
   ]
  },
  {
   "cell_type": "code",
   "execution_count": 18,
   "metadata": {},
   "outputs": [
    {
     "data": {
      "text/html": [
       "<div>\n",
       "<style scoped>\n",
       "    .dataframe tbody tr th:only-of-type {\n",
       "        vertical-align: middle;\n",
       "    }\n",
       "\n",
       "    .dataframe tbody tr th {\n",
       "        vertical-align: top;\n",
       "    }\n",
       "\n",
       "    .dataframe thead th {\n",
       "        text-align: right;\n",
       "    }\n",
       "</style>\n",
       "<table border=\"1\" class=\"dataframe\">\n",
       "  <thead>\n",
       "    <tr style=\"text-align: right;\">\n",
       "      <th></th>\n",
       "      <th>patient_id</th>\n",
       "      <th>event_name</th>\n",
       "      <th>event_time</th>\n",
       "      <th>specialty</th>\n",
       "      <th>plan_type</th>\n",
       "      <th>patient_payment</th>\n",
       "      <th>outcome_flag</th>\n",
       "    </tr>\n",
       "  </thead>\n",
       "  <tbody>\n",
       "    <tr>\n",
       "      <th>0</th>\n",
       "      <td>patient_1</td>\n",
       "      <td>event_1</td>\n",
       "      <td>47</td>\n",
       "      <td>spec_1</td>\n",
       "      <td>plan_1</td>\n",
       "      <td>0.0</td>\n",
       "      <td>0</td>\n",
       "    </tr>\n",
       "    <tr>\n",
       "      <th>1</th>\n",
       "      <td>patient_4</td>\n",
       "      <td>event_1</td>\n",
       "      <td>727</td>\n",
       "      <td>spec_1</td>\n",
       "      <td>plan_2</td>\n",
       "      <td>0.0</td>\n",
       "      <td>0</td>\n",
       "    </tr>\n",
       "    <tr>\n",
       "      <th>2</th>\n",
       "      <td>patient_6</td>\n",
       "      <td>event_1</td>\n",
       "      <td>738</td>\n",
       "      <td>spec_1</td>\n",
       "      <td>plan_1</td>\n",
       "      <td>0.0</td>\n",
       "      <td>0</td>\n",
       "    </tr>\n",
       "    <tr>\n",
       "      <th>3</th>\n",
       "      <td>patient_7</td>\n",
       "      <td>event_1</td>\n",
       "      <td>923</td>\n",
       "      <td>spec_1</td>\n",
       "      <td>plan_1</td>\n",
       "      <td>0.0</td>\n",
       "      <td>0</td>\n",
       "    </tr>\n",
       "    <tr>\n",
       "      <th>4</th>\n",
       "      <td>patient_9</td>\n",
       "      <td>event_1</td>\n",
       "      <td>49</td>\n",
       "      <td>spec_1</td>\n",
       "      <td>plan_1</td>\n",
       "      <td>0.0</td>\n",
       "      <td>0</td>\n",
       "    </tr>\n",
       "  </tbody>\n",
       "</table>\n",
       "</div>"
      ],
      "text/plain": [
       "  patient_id event_name  event_time specialty plan_type  patient_payment  \\\n",
       "0  patient_1  event_1    47          spec_1    plan_1    0.0               \n",
       "1  patient_4  event_1    727         spec_1    plan_2    0.0               \n",
       "2  patient_6  event_1    738         spec_1    plan_1    0.0               \n",
       "3  patient_7  event_1    923         spec_1    plan_1    0.0               \n",
       "4  patient_9  event_1    49          spec_1    plan_1    0.0               \n",
       "\n",
       "   outcome_flag  \n",
       "0  0             \n",
       "1  0             \n",
       "2  0             \n",
       "3  0             \n",
       "4  0             "
      ]
     },
     "execution_count": 18,
     "metadata": {},
     "output_type": "execute_result"
    }
   ],
   "source": [
    "train.head()"
   ]
  },
  {
   "cell_type": "code",
   "execution_count": 19,
   "metadata": {},
   "outputs": [
    {
     "data": {
      "text/html": [
       "<div>\n",
       "<style scoped>\n",
       "    .dataframe tbody tr th:only-of-type {\n",
       "        vertical-align: middle;\n",
       "    }\n",
       "\n",
       "    .dataframe tbody tr th {\n",
       "        vertical-align: top;\n",
       "    }\n",
       "\n",
       "    .dataframe thead th {\n",
       "        text-align: right;\n",
       "    }\n",
       "</style>\n",
       "<table border=\"1\" class=\"dataframe\">\n",
       "  <thead>\n",
       "    <tr style=\"text-align: right;\">\n",
       "      <th></th>\n",
       "      <th>patient_id</th>\n",
       "      <th>event_name</th>\n",
       "      <th>event_time</th>\n",
       "      <th>specialty</th>\n",
       "      <th>plan_type</th>\n",
       "      <th>patient_payment</th>\n",
       "    </tr>\n",
       "  </thead>\n",
       "  <tbody>\n",
       "    <tr>\n",
       "      <th>0</th>\n",
       "      <td>patient_2</td>\n",
       "      <td>event_1</td>\n",
       "      <td>164</td>\n",
       "      <td>spec_1</td>\n",
       "      <td>plan_2</td>\n",
       "      <td>0.0</td>\n",
       "    </tr>\n",
       "    <tr>\n",
       "      <th>1</th>\n",
       "      <td>patient_3</td>\n",
       "      <td>event_1</td>\n",
       "      <td>420</td>\n",
       "      <td>spec_1</td>\n",
       "      <td>plan_2</td>\n",
       "      <td>0.0</td>\n",
       "    </tr>\n",
       "    <tr>\n",
       "      <th>2</th>\n",
       "      <td>patient_5</td>\n",
       "      <td>event_1</td>\n",
       "      <td>623</td>\n",
       "      <td>spec_1</td>\n",
       "      <td>plan_2</td>\n",
       "      <td>0.0</td>\n",
       "    </tr>\n",
       "    <tr>\n",
       "      <th>3</th>\n",
       "      <td>patient_8</td>\n",
       "      <td>event_1</td>\n",
       "      <td>162</td>\n",
       "      <td>spec_1</td>\n",
       "      <td>plan_1</td>\n",
       "      <td>0.0</td>\n",
       "    </tr>\n",
       "    <tr>\n",
       "      <th>4</th>\n",
       "      <td>patient_14</td>\n",
       "      <td>event_1</td>\n",
       "      <td>243</td>\n",
       "      <td>spec_1</td>\n",
       "      <td>plan_2</td>\n",
       "      <td>0.0</td>\n",
       "    </tr>\n",
       "  </tbody>\n",
       "</table>\n",
       "</div>"
      ],
      "text/plain": [
       "   patient_id event_name  event_time specialty plan_type  patient_payment\n",
       "0  patient_2   event_1    164         spec_1    plan_2    0.0            \n",
       "1  patient_3   event_1    420         spec_1    plan_2    0.0            \n",
       "2  patient_5   event_1    623         spec_1    plan_2    0.0            \n",
       "3  patient_8   event_1    162         spec_1    plan_1    0.0            \n",
       "4  patient_14  event_1    243         spec_1    plan_2    0.0            "
      ]
     },
     "execution_count": 19,
     "metadata": {},
     "output_type": "execute_result"
    }
   ],
   "source": [
    "test.head()"
   ]
  },
  {
   "cell_type": "code",
   "execution_count": null,
   "metadata": {},
   "outputs": [],
   "source": []
  },
  {
   "cell_type": "markdown",
   "metadata": {},
   "source": [
    "# Baseline Model"
   ]
  },
  {
   "cell_type": "code",
   "execution_count": 20,
   "metadata": {},
   "outputs": [
    {
     "data": {
      "text/plain": [
       "7148"
      ]
     },
     "execution_count": 20,
     "metadata": {},
     "output_type": "execute_result"
    }
   ],
   "source": [
    "valid_set = train.patient_id.unique()[:len(test.patient_id.unique())]; len(valid_set)"
   ]
  },
  {
   "cell_type": "code",
   "execution_count": 21,
   "metadata": {},
   "outputs": [],
   "source": [
    "def split_vals(x, valid_set):\n",
    "    return x[~x['patient_id'].isin(valid_set)].copy(), x[x['patient_id'].isin(valid_set)].copy()"
   ]
  },
  {
   "cell_type": "code",
   "execution_count": 22,
   "metadata": {},
   "outputs": [],
   "source": [
    "from sklearn.preprocessing import Imputer, StandardScaler, OneHotEncoder"
   ]
  },
  {
   "cell_type": "code",
   "execution_count": 23,
   "metadata": {
    "scrolled": true
   },
   "outputs": [
    {
     "data": {
      "text/plain": [
       "Index(['patient_id', 'event_name', 'event_time', 'specialty', 'plan_type',\n",
       "       'patient_payment', 'outcome_flag'],\n",
       "      dtype='object')"
      ]
     },
     "execution_count": 23,
     "metadata": {},
     "output_type": "execute_result"
    }
   ],
   "source": [
    "train.columns"
   ]
  },
  {
   "cell_type": "code",
   "execution_count": 24,
   "metadata": {},
   "outputs": [],
   "source": [
    "_predictors = ['event_name', 'event_time', 'specialty', 'plan_type', 'patient_payment']\n",
    "drop_cols = ['patient_id']"
   ]
  },
  {
   "cell_type": "code",
   "execution_count": null,
   "metadata": {},
   "outputs": [],
   "source": [
    "from sklearn.metrics import roc_auc_score\n",
    "\n",
    "def print_score(m):\n",
    "    res = [roc_auc_score(y_train, m.predict_proba(X_train)[:,1]), \n",
    "           roc_auc_score(y_valid, m.predict_proba(X_valid)[:,1]),\n",
    "           m.score(X_train, y_train), m.score(X_valid, y_valid)]\n",
    "    if hasattr(m, 'oob_score_'): res.append(m.oob_score_)\n",
    "    print(res)\n",
    "\n",
    "from sklearn.linear_model import LogisticRegression, LogisticRegressionCV\n",
    "from sklearn.preprocessing import Imputer, StandardScaler, OneHotEncoder\n",
    "from sklearn.pipeline import Pipeline\n",
    "\n",
    "def _make_new_feature(data, name, features, weights):\n",
    "    data[name] = 0\n",
    "    for col, w in zip(features, weights):\n",
    "        data[name] += data[col] * w\n",
    "            \n",
    "def get_clf_pipeline(): \n",
    "    #clf = LogisticRegression(class_weight='balanced')\n",
    "    steps = [#('Impute', Imputer(strategy='median')),\n",
    "             ('OHE', OneHotEncoder(sparse=False)),\n",
    "             ('scaler', StandardScaler())]\n",
    "             #('clf', clf)]\n",
    "    return Pipeline(steps)\n",
    "\n",
    "X_train, X_valid = split_vals(train, valid_set)\n",
    "# X_test = test.copy()\n",
    "\n",
    "y_train = X_train[target]\n",
    "y_valid = X_valid[target]\n",
    "X_train = X_train.drop([target]+drop_cols, axis=1)\n",
    "X_valid = X_valid.drop([target]+drop_cols, axis=1)\n",
    "\n",
    "pipeline = get_clf_pipeline()\n",
    "X_train = pipeline.fit_transform(X_train)\n",
    "X_valid = pipeline.transform(X_valid)\n",
    "\n",
    "# clf = LogisticRegressionCV(class_weight='balanced')\n",
    "# clf.fit(X_train, y_train)\n",
    "# print_score(clf)\n",
    "# print(pd.Series(clf.coef_[0], index=col_name).sort_values())"
   ]
  },
  {
   "cell_type": "code",
   "execution_count": null,
   "metadata": {},
   "outputs": [],
   "source": []
  },
  {
   "cell_type": "code",
   "execution_count": null,
   "metadata": {},
   "outputs": [],
   "source": []
  },
  {
   "cell_type": "code",
   "execution_count": null,
   "metadata": {},
   "outputs": [],
   "source": []
  },
  {
   "cell_type": "code",
   "execution_count": null,
   "metadata": {},
   "outputs": [],
   "source": []
  }
 ],
 "metadata": {
  "kernelspec": {
   "display_name": "Python 3",
   "language": "python",
   "name": "python3"
  },
  "language_info": {
   "codemirror_mode": {
    "name": "ipython",
    "version": 3
   },
   "file_extension": ".py",
   "mimetype": "text/x-python",
   "name": "python",
   "nbconvert_exporter": "python",
   "pygments_lexer": "ipython3",
   "version": "3.6.9"
  },
  "toc": {
   "base_numbering": 1,
   "nav_menu": {},
   "number_sections": true,
   "sideBar": true,
   "skip_h1_title": false,
   "title_cell": "Table of Contents",
   "title_sidebar": "Contents",
   "toc_cell": false,
   "toc_position": {},
   "toc_section_display": true,
   "toc_window_display": false
  }
 },
 "nbformat": 4,
 "nbformat_minor": 2
}
